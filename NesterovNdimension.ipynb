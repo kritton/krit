{
 "cells": [
  {
   "cell_type": "code",
   "execution_count": 1,
   "id": "14b45a96-819f-4490-b56d-2c0806fee83d",
   "metadata": {},
   "outputs": [
    {
     "name": "stdout",
     "output_type": "stream",
     "text": [
      "Requirement already satisfied: numpy in ./venv/lib/python3.8/site-packages (1.20.2)\n",
      "\u001b[33mWARNING: You are using pip version 21.0.1; however, version 21.1.1 is available.\n",
      "You should consider upgrading via the '/Users/kritpatarapak/PycharmProjects/untitled2/venv/bin/python -m pip install --upgrade pip' command.\u001b[0m\n",
      "Requirement already satisfied: matplotlib in ./venv/lib/python3.8/site-packages (3.4.1)\n",
      "Requirement already satisfied: cycler>=0.10 in ./venv/lib/python3.8/site-packages (from matplotlib) (0.10.0)\n",
      "Requirement already satisfied: kiwisolver>=1.0.1 in ./venv/lib/python3.8/site-packages (from matplotlib) (1.3.1)\n",
      "Requirement already satisfied: numpy>=1.16 in ./venv/lib/python3.8/site-packages (from matplotlib) (1.20.2)\n",
      "Requirement already satisfied: pillow>=6.2.0 in ./venv/lib/python3.8/site-packages (from matplotlib) (8.2.0)\n",
      "Requirement already satisfied: python-dateutil>=2.7 in ./venv/lib/python3.8/site-packages (from matplotlib) (2.8.1)\n",
      "Requirement already satisfied: pyparsing>=2.2.1 in ./venv/lib/python3.8/site-packages (from matplotlib) (2.4.7)\n",
      "Requirement already satisfied: six in ./venv/lib/python3.8/site-packages (from cycler>=0.10->matplotlib) (1.15.0)\n",
      "\u001b[33mWARNING: You are using pip version 21.0.1; however, version 21.1.1 is available.\n",
      "You should consider upgrading via the '/Users/kritpatarapak/PycharmProjects/untitled2/venv/bin/python -m pip install --upgrade pip' command.\u001b[0m\n"
     ]
    }
   ],
   "source": [
    "import sys\n",
    "!{sys.executable} -m pip install numpy\n",
    "!{sys.executable} -m pip install matplotlib"
   ]
  },
  {
   "cell_type": "code",
   "execution_count": 3,
   "id": "26fd559b-0ace-4d23-bfe2-8cc6d3a2c478",
   "metadata": {},
   "outputs": [],
   "source": [
    "import math\n",
    "import numpy as np\n",
    "from math import sqrt\n",
    "from numpy import asarray\n",
    "from numpy.random import rand\n",
    "from numpy.random import seed\n",
    "from numpy import arange\n",
    "from numpy import meshgrid\n",
    "from matplotlib import pyplot as plt\n",
    "from scipy.optimize import minimize_scalar\n",
    "from matplotlib import pyplot"
   ]
  },
  {
   "cell_type": "code",
   "execution_count": 4,
   "id": "b28ea7d4-2e12-43eb-94d1-6ed108a3509e",
   "metadata": {},
   "outputs": [],
   "source": [
    "f = np.asarray([1,10,100,1000])\n",
    "\n",
    "def objective(args): # Extend any function with extend to n variables \n",
    "    argsquare = np.multiply(args,args)\n",
    "    return np.dot(argsquare, f)\n",
    "    \n",
    "# derivative of objective function\n",
    "def derivative(args):\n",
    "    return np.multiply(2*f, args)\n",
    "\n",
    "# gradient descent algorithm with nesterov momentum\n",
    "# gradient descent algorithm with nesterov momentum\n",
    "def nesterov(objective, derivative, epsilon):\n",
    "    # track all solutions\n",
    "    solutions = list()\n",
    "    # generate an initial point\n",
    "    x = np.ones(len(f))\n",
    "    solutions.append(x)\n",
    "    \n",
    "    errors = []\n",
    "    norm = []\n",
    "    L = 2*np.max(f)\n",
    "    mu = 2*np.min(f)\n",
    "    k = mu/L\n",
    "    # list of changes made to each variable\n",
    "    y=x\n",
    "    # run the gradient descent\n",
    "    solution_eval = objective(x)\n",
    "    while solution_eval >= epsilon:\n",
    "        # calculate x (k+1), y (k+1)\n",
    "        ygrad = derivative(y)\n",
    "        x2 = y - (1/L)* ygrad\n",
    "        y2 = x2 + (1 - np.sqrt(k))/(1 + np.sqrt(k))*(x2-x)\n",
    "        x = x2\n",
    "        y = y2  \n",
    "        solution_eval = objective(x)\n",
    "        solutions.append(x)\n",
    "        # report progress\n",
    "        print(x, solution_eval)\n",
    "        errors.append(solution_eval)\n",
    "        solutionlength = np.linalg.norm(x)\n",
    "        norm.append(solutionlength)\n",
    "    return solutions, errors, norm\n",
    " \n",
    "\n"
   ]
  },
  {
   "cell_type": "code",
   "execution_count": 226,
   "id": "763b9788-2eba-49d1-b577-37f203ad9e6e",
   "metadata": {},
   "outputs": [],
   "source": [
    "epsilon = 10**(-20)"
   ]
  },
  {
   "cell_type": "code",
   "execution_count": 227,
   "id": "6c03fd98-7eb2-413b-ad21-67d266e0ecf3",
   "metadata": {},
   "outputs": [
    {
     "name": "stdout",
     "output_type": "stream",
     "text": [
      "[0.8 0.5 0.2 0. ] 2.85\n",
      "[ 0.57888544  0.1545085  -0.02111456  0.        ] 0.7931476773956849\n",
      "[ 0.39554175  0.01127124 -0.02111456  0.        ] 0.3171083587664358\n",
      "[ 0.26040856 -0.02172026 -0.00422291  0.        ] 0.13812674575794212\n",
      "[ 0.16703382 -0.01716095  0.00044582  0.        ] 0.05727467162613094\n",
      "[ 0.10509427 -0.00770972  0.00044582  0.        ] 0.022388400492271504\n",
      "[ 6.51483756e-02 -2.04983760e-03  8.91649440e-05  0.00000000e+00] 0.008509694447761475\n",
      "[ 3.99123211e-02  5.60228859e-05 -9.41339360e-06  0.00000000e+00] 0.003186003156735608\n",
      "[ 2.42184049e-02  4.30195008e-04 -9.41339360e-06  0.00000000e+00] 0.0011739883155476177\n",
      "[ 1.45790898e-02  2.86558020e-04 -1.88267872e-06  0.00000000e+00] 0.000425510325285932\n",
      "[8.71775927e-03 1.15846787e-04 1.98759681e-07 0.00000000e+00] 0.00015206575617054082\n",
      "[5.18314418e-03 2.53204488e-05 1.98759681e-07 0.00000000e+00] 5.373317313982489e-05\n",
      "[ 3.06643308e-03 -4.62876769e-06  3.97519362e-08  0.00000000e+00] 1.8806130837312348e-05\n",
      "[ 1.80633711e-03 -8.03417522e-06 -4.19672357e-09  0.00000000e+00] 6.526030247726555e-06\n",
      "[ 1.06001862e-03 -4.66746258e-06 -4.19672357e-09  0.00000000e+00] 2.2473878832121433e-06\n",
      "[ 6.19960261e-04 -1.69074639e-06 -8.39344713e-10  0.00000000e+00] 7.687157427221739e-07\n",
      "[ 3.61498339e-04 -2.76870989e-07  8.86119791e-11  0.00000000e+00] 2.6136248148572957e-07\n",
      "[2.10219736e-04 1.31590678e-07 8.86119791e-11 0.00000000e+00] 8.83847612009218e-08\n",
      "[1.21949161e-04 1.43804576e-07 1.77223958e-11 0.00000000e+00] 2.9743299084041196e-08\n",
      "[ 7.05862412e-05  7.42349350e-08 -1.87100311e-12  0.00000000e+00] 9.964862446371812e-09\n",
      "[ 4.07738813e-05  2.38308483e-08 -1.87100311e-12  0.00000000e+00] 3.3250216330476624e-09\n",
      "[ 2.35092585e-05  2.28910020e-09 -3.74200622e-13  0.00000000e+00] 1.1053704957316118e-09\n",
      "[ 1.35318075e-05 -2.96955771e-09  3.95054108e-14  0.00000000e+00] 3.662196726439688e-10\n",
      "[ 7.77660828e-06 -2.48909315e-09  3.95054108e-14  0.00000000e+00] 1.2095130355453068e-10\n",
      "[ 4.46265423e-06 -1.15278601e-09  7.90108216e-15  0.00000000e+00] 3.9830572154911794e-11\n",
      "[ 2.55746913e-06 -3.21181050e-10 -8.34139437e-16  0.00000000e+00] 1.3081297262849011e-11\n",
      "[ 1.46380255e-06 -1.76811055e-12 -8.34139437e-16  0.00000000e+00] 4.285435792933528e-12\n",
      "[ 8.36847266e-07  6.01183879e-11 -1.66827887e-16  0.00000000e+00] 1.4006267123544356e-12\n",
      "[4.77897327e-07 4.18784634e-11 1.76124887e-17 0.00000000e+00] 4.567717187565003e-13\n",
      "[2.72632520e-07 1.74557161e-11 1.76124887e-17 0.00000000e+00] 1.4865698362929132e-13\n",
      "[1.55382673e-07 4.06352837e-12 3.52249774e-18 0.00000000e+00] 4.8287549954110467e-14\n",
      "[ 8.84777728e-08 -5.25916081e-13 -3.71879981e-19  0.00000000e+00] 1.5656632551324477e-14\n",
      "[ 5.03379001e-08 -1.13946394e-12 -3.71879981e-19  0.00000000e+00] 5.067808369665697e-15\n",
      "[ 2.86158120e-08 -6.86909181e-13 -7.43759962e-20  0.00000000e+00] 1.6377293950291739e-15\n",
      "[ 1.62549701e-08 -2.57024323e-13  7.85208284e-21  0.00000000e+00] 5.284481085195568e-16\n",
      "[ 9.22683894e-09 -4.64114595e-14  7.85208284e-21  0.00000000e+00] 1.7026911359826297e-16\n",
      "[5.23386536e-09 1.70177480e-14 1.57041657e-21 0.00000000e+00] 5.47866931900096e-17\n",
      "[ 2.96694813e-09  2.06227747e-14 -1.65793288e-22  0.00000000e+00] 1.760556246308711e-17\n",
      "[ 1.68085024e-09  1.09998862e-14 -1.65793288e-22  0.00000000e+00] 5.650515080457097e-18\n",
      "[ 9.51683649e-10  3.66213492e-15 -3.31586577e-23  0.00000000e+00] 1.811403536911695e-18\n",
      "[5.38533435e-10 4.29681668e-16 3.50065263e-24 0.00000000e+00] 5.800365215941301e-19\n",
      "[ 3.04579277e-10 -4.02502803e-16  3.50065263e-24  0.00000000e+00] 1.8553707153436065e-19\n",
      "[ 1.72173392e-10 -3.60184493e-16  7.00130527e-25  0.00000000e+00] 5.928735377629108e-20\n",
      "[ 9.72790754e-11 -1.72010169e-16 -7.39147464e-26  0.00000000e+00] 1.8926437028561953e-20\n",
      "[ 5.49375937e-11 -5.00669862e-17 -7.39147464e-26  0.00000000e+00] 6.0362783944465496e-21\n"
     ]
    }
   ],
   "source": [
    "solutionsnesterov = nesterov(objective, derivative, epsilon)"
   ]
  },
  {
   "cell_type": "code",
   "execution_count": 228,
   "id": "489dbbe9-2a16-4556-a873-224acd4e9abc",
   "metadata": {},
   "outputs": [
    {
     "data": {
      "image/png": "[encoded data removed]",
      "text/plain": [
       "<Figure size 432x288 with 1 Axes>"
      ]
     },
     "metadata": {
      "needs_background": "light"
     },
     "output_type": "display_data"
    },
    {
     "data": {
      "image/png": "[encoded data removed]",
      "text/plain": [
       "<Figure size 432x288 with 1 Axes>"
      ]
     },
     "metadata": {
      "needs_background": "light"
     },
     "output_type": "display_data"
    }
   ],
   "source": [
    "def plot_errors_vs_num_iterations(errors):\n",
    "    plt.plot(errors)\n",
    "    plt.ylabel(\"Errors\")\n",
    "    plt.xlabel(\"Number of iterations\")\n",
    "    plt.show()\n",
    "def plot_lnerrors_vs_num_iterations(errors):\n",
    "    logerrors = np.log10(errors)\n",
    "    plt.plot(logerrors)\n",
    "    plt.ylabel(\"Errors\")\n",
    "    plt.xlabel(\"Number of iterations\")\n",
    "    plt.show()\n",
    "    \n",
    "plot_errors_vs_num_iterations(solutionsnesterov[1])\n",
    "plot_lnerrors_vs_num_iterations(solutionsnesterov[1])"
   ]
  },
  {
   "cell_type": "code",
   "execution_count": 229,
   "id": "8889c4d1-7d05-4059-baa7-09bb02694114",
   "metadata": {},
   "outputs": [
    {
     "data": {
      "image/png": "[encoded data removed]",
      "text/plain": [
       "<Figure size 432x288 with 1 Axes>"
      ]
     },
     "metadata": {
      "needs_background": "light"
     },
     "output_type": "display_data"
    },
    {
     "data": {
      "image/png": "[encoded data removed]",
      "text/plain": [
       "<Figure size 432x288 with 1 Axes>"
      ]
     },
     "metadata": {
      "needs_background": "light"
     },
     "output_type": "display_data"
    }
   ],
   "source": [
    "def plot_norm_vs_num_iterations(norm):\n",
    "    plt.plot(norm)\n",
    "    plt.ylabel(\"Norm\")\n",
    "    plt.xlabel(\"Number of iterations\")\n",
    "    plt.show()\n",
    "\n",
    "def plot_lnnorm_vs_num_iterations(norm):\n",
    "    lognorm = np.log10(norm)\n",
    "    plt.plot(lognorm)\n",
    "    plt.ylabel(\"Norm\")\n",
    "    plt.xlabel(\"Number of iterations\")\n",
    "    plt.show()\n",
    "\n",
    "plot_norm_vs_num_iterations(solutionsnesterov[2])\n",
    "plot_lnnorm_vs_num_iterations(solutionsnesterov[2])"
   ]
  },
  {
   "cell_type": "code",
   "execution_count": null,
   "id": "0768db82-ec96-45d9-8878-6e3f3a96ea13",
   "metadata": {},
   "outputs": [],
   "source": []
  },
  {
   "cell_type": "code",
   "execution_count": null,
   "id": "e5c8c6e7-d2c0-4900-b44f-7de4f68d1bad",
   "metadata": {},
   "outputs": [],
   "source": []
  },
  {
   "cell_type": "code",
   "execution_count": null,
   "id": "8ed84aeb-f332-4ae9-9bbd-0a1a1a2d6b8f",
   "metadata": {},
   "outputs": [],
   "source": []
  },
  {
   "cell_type": "code",
   "execution_count": null,
   "id": "6afbd057-d958-4a3b-8473-c9b0ab7e01d6",
   "metadata": {},
   "outputs": [],
   "source": []
  }
 ],
 "metadata": {
  "kernelspec": {
   "display_name": "Python 3",
   "language": "python",
   "name": "python3"
  },
  "language_info": {
   "codemirror_mode": {
    "name": "ipython",
    "version": 3
   },
   "file_extension": ".py",
   "mimetype": "text/x-python",
   "name": "python",
   "nbconvert_exporter": "python",
   "pygments_lexer": "ipython3",
   "version": "3.8.0"
  }
 },
 "nbformat": 4,
 "nbformat_minor": 5
}
