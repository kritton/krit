{
 "cells": [
  {
   "cell_type": "code",
   "execution_count": 17,
   "id": "f79a87c9-fc04-466c-ba54-dc7428fa4457",
   "metadata": {},
   "outputs": [
    {
     "name": "stdout",
     "output_type": "stream",
     "text": [
      "Collecting numpy\n",
      "  Downloading numpy-1.20.2-cp38-cp38-macosx_10_9_x86_64.whl (16.0 MB)\n",
      "\u001b[K     |████████████████████████████████| 16.0 MB 2.9 MB/s eta 0:00:01\n",
      "\u001b[?25hInstalling collected packages: numpy\n",
      "Successfully installed numpy-1.20.2\n"
     ]
    }
   ],
   "source": [
    "import sys\n",
    "!{sys.executable} -m pip install numpy\n"
   ]
  },
  {
   "cell_type": "code",
   "execution_count": 23,
   "id": "db33bc5e-acec-400c-b3f0-aa51ca967337",
   "metadata": {},
   "outputs": [
    {
     "name": "stdout",
     "output_type": "stream",
     "text": [
      "Collecting matplotlib\n",
      "  Downloading matplotlib-3.4.1-cp38-cp38-macosx_10_9_x86_64.whl (7.2 MB)\n",
      "\u001b[K     |████████████████████████████████| 7.2 MB 3.3 MB/s eta 0:00:01\n",
      "\u001b[?25hCollecting kiwisolver>=1.0.1\n",
      "  Downloading kiwisolver-1.3.1-cp38-cp38-macosx_10_9_x86_64.whl (61 kB)\n",
      "\u001b[K     |████████████████████████████████| 61 kB 301 kB/s eta 0:00:01\n",
      "\u001b[?25hCollecting cycler>=0.10\n",
      "  Using cached cycler-0.10.0-py2.py3-none-any.whl (6.5 kB)\n",
      "Requirement already satisfied: numpy>=1.16 in ./venv/lib/python3.8/site-packages (from matplotlib) (1.20.2)\n",
      "Collecting pillow>=6.2.0\n",
      "  Downloading Pillow-8.2.0-cp38-cp38-macosx_10_10_x86_64.whl (2.8 MB)\n",
      "\u001b[K     |████████████████████████████████| 2.8 MB 3.7 MB/s eta 0:00:01\n",
      "\u001b[?25hRequirement already satisfied: pyparsing>=2.2.1 in ./venv/lib/python3.8/site-packages (from matplotlib) (2.4.7)\n",
      "Requirement already satisfied: python-dateutil>=2.7 in ./venv/lib/python3.8/site-packages (from matplotlib) (2.8.1)\n",
      "Requirement already satisfied: six in ./venv/lib/python3.8/site-packages (from cycler>=0.10->matplotlib) (1.15.0)\n",
      "Installing collected packages: pillow, kiwisolver, cycler, matplotlib\n",
      "Successfully installed cycler-0.10.0 kiwisolver-1.3.1 matplotlib-3.4.1 pillow-8.2.0\n"
     ]
    }
   ],
   "source": [
    "!{sys.executable} -m pip install matplotlib"
   ]
  },
  {
   "cell_type": "code",
   "execution_count": 41,
   "id": "39677b08-2f16-4cba-9aaa-c74825856a4a",
   "metadata": {},
   "outputs": [],
   "source": [
    "import math\n",
    "import numpy as np"
   ]
  },
  {
   "cell_type": "code",
   "execution_count": 105,
   "id": "150e5800-de34-4762-8bc2-a3c553975ece",
   "metadata": {},
   "outputs": [
    {
     "name": "stdout",
     "output_type": "stream",
     "text": [
      "[-0.16263687  0.43183601] 0.2129330888064158\n",
      "[-0.15678194  0.41628991] 0.197877867695447\n",
      "[-0.14905604  0.39577597] 0.1788563244821747\n",
      "[-0.14001781  0.37177753] 0.15782351740783743\n",
      "[-0.13013149  0.34552719] 0.13632324555444594\n",
      "[-0.11977798  0.31803639] 0.11549390854303504\n",
      "[-0.10926527  0.29012287] 0.09611017818886489\n",
      "[-0.09883799  0.26243621] 0.07864171576305566\n",
      "[-0.08868625  0.23548115] 0.0633166244864187\n",
      "[-0.07895356  0.20963876] 0.05018207487906064\n",
      "[-0.06974406  0.18518555] 0.03915792210020795\n",
      "[-0.06112894  0.16231052] 0.030081451928310896\n",
      "[-0.0531521   0.14113029] 0.02274290355202578\n",
      "[-0.04583521  0.12170238] 0.01691233595438003\n",
      "[-0.03918207  0.10403685] 0.012358901315035725\n",
      "[-0.03318236  0.08810634] 0.008863796888625179\n",
      "[-0.02781495  0.0738547 ] 0.006228187395035334\n",
      "[-0.0230506   0.06120431] 0.004277297541509957\n",
      "[-0.01885433  0.05006232] 0.002861721876283856\n",
      "[-0.01518737  0.04032576] 0.0018568229532058438\n",
      "[-0.01200873  0.03188577] 0.0011609122188639895\n",
      "[-0.0092765   0.02463111] 0.0006927451741925335\n"
     ]
    },
    {
     "data": {
      "image/png": "[encoded data removed]",
      "text/plain": [
       "<Figure size 432x288 with 1 Axes>"
      ]
     },
     "metadata": {
      "needs_background": "light"
     },
     "output_type": "display_data"
    }
   ],
   "source": [
    "from math import sqrt\n",
    "from numpy import asarray\n",
    "from numpy.random import rand\n",
    "from numpy.random import seed\n",
    "from numpy import arange\n",
    "from numpy import meshgrid\n",
    "from matplotlib import pyplot\n",
    " \n",
    "\n",
    "# objective function\n",
    "def objective(x, y):\n",
    "\treturn x**2.0 + y**2.0\n",
    "\n",
    "# derivative of objective function\n",
    "def derivative(x, y):\n",
    "\treturn asarray([x * 2.0, y * 2.0])\n",
    "\n",
    "# gradient descent algorithm with nesterov momentum\n",
    "# gradient descent algorithm with nesterov momentum\n",
    "def nesterov(objective, derivative, bounds, epsilon, step_size, momentum):\n",
    "\t# track all solutions\n",
    "\tsolutions = list()\n",
    "\t# generate an initial point\n",
    "\tsolution = bounds[:, 0] + rand(len(bounds)) * (bounds[:, 1] - bounds[:, 0])\n",
    "\t# list of changes made to each variable\n",
    "\tchange = [0.0 for _ in range(bounds.shape[0])]\n",
    "\t# run the gradient descent\n",
    "\tsolution_eval = objective(1, 1)\n",
    "\twhile solution_eval >= epsilon:\n",
    "\t\t# calculate the projected solution\n",
    "\t\tprojected = [solution[i] + momentum * change[i] for i in range(solution.shape[0])]\n",
    "\t\t# calculate the gradient for the projection\n",
    "\t\tgradient = derivative(projected[0], projected[1])\n",
    "\t\t# build a solution one variable at a time\n",
    "\t\tnew_solution = list()\n",
    "\t\tfor i in range(solution.shape[0]):\n",
    "\t\t\t# calculate the change\n",
    "\t\t\tchange[i] = (momentum * change[i]) - step_size * gradient[i]\n",
    "\t\t\t# calculate the new position in this variable\n",
    "\t\t\tvalue = solution[i] + change[i]\n",
    "\t\t\t# store this variable\n",
    "\t\t\tnew_solution.append(value)\n",
    "\t\t# store the new solution\n",
    "\t\tsolution = asarray(new_solution)\n",
    "\t\tsolutions.append(solution)\n",
    "\t\t# evaluate candidate point\n",
    "\t\tsolution_eval = objective(solution[0], solution[1])\n",
    "\t\t# report progress\n",
    "\t\tprint(solution, solution_eval)\n",
    "\treturn solutions\n",
    " \n",
    "# seed the pseudo random number generator\n",
    "seed(1)\n",
    "# define range for input\n",
    "bounds = asarray([[-1.0, 1.0], [-1.0, 1.0]])\n",
    "# define the total iterations\n",
    "epsilon = 0.001\n",
    "# define the step size\n",
    "step_size = 0.01\n",
    "# define momentum\n",
    "momentum = 0.8\n",
    "# perform the gradient descent search with nesterov momentum\n",
    "solutions = nesterov(objective, derivative, bounds, epsilon, step_size, momentum)\n",
    "# sample input range uniformly at 0.1 increments\n",
    "xaxis = arange(bounds[0,0], bounds[0,1], 0.1)\n",
    "yaxis = arange(bounds[1,0], bounds[1,1], 0.1)\n",
    "# create a mesh from the axis\n",
    "x, y = meshgrid(xaxis, yaxis)\n",
    "# compute targets\n",
    "results = objective(x, y)\n",
    "# create a filled contour plot with 50 levels and jet color scheme\n",
    "pyplot.contourf(x, y, results, levels=50, cmap='jet')\n",
    "# plot the sample\n",
    "solutions = asarray(solutions)\n",
    "pyplot.plot(solutions[:, 0], solutions[:, 1], '.-', color='w')\n",
    "# show the plot\n",
    "pyplot.show()\n"
   ]
  },
  {
   "cell_type": "code",
   "execution_count": null,
   "id": "aebb3016-4c7e-43ec-a548-3aff95540ca8",
   "metadata": {},
   "outputs": [],
   "source": []
  },
  {
   "cell_type": "code",
   "execution_count": 106,
   "id": "a5db36f4-52f9-42dc-b657-816d1f148e71",
   "metadata": {},
   "outputs": [
    {
     "name": "stdout",
     "output_type": "stream",
     "text": [
      "[0.40868156] [0.16702062]\n",
      "[[0.39396903]] [[0.1552116]]\n",
      "[[[0.37455502]]] [[[0.14029146]]]\n",
      "[[[[0.35184334]]]] [[[[0.12379373]]]]\n",
      "[[[[[0.32700051]]]]] [[[[[0.10692933]]]]]\n",
      "[[[[[[0.30098372]]]]]] [[[[[[0.0905912]]]]]]\n",
      "[[[[[[[0.27456689]]]]]]] [[[[[[[0.07538698]]]]]]]\n",
      "[[[[[[[[0.24836475]]]]]]]] [[[[[[[[0.06168505]]]]]]]]\n",
      "[[[[[[[[[0.22285498]]]]]]]]] [[[[[[[[[0.04966434]]]]]]]]]\n",
      "[[[[[[[[[[0.19839822]]]]]]]]]] [[[[[[[[[[0.03936185]]]]]]]]]]\n",
      "[[[[[[[[[[[0.17525616]]]]]]]]]]] [[[[[[[[[[[0.03071472]]]]]]]]]]]\n",
      "[[[[[[[[[[[[0.15360766]]]]]]]]]]]] [[[[[[[[[[[[0.02359531]]]]]]]]]]]]\n",
      "[[[[[[[[[[[[[0.13356308]]]]]]]]]]]]] [[[[[[[[[[[[[0.0178391]]]]]]]]]]]]]\n",
      "[[[[[[[[[[[[[[0.11517687]]]]]]]]]]]]]] [[[[[[[[[[[[[[0.01326571]]]]]]]]]]]]]]\n",
      "[[[[[[[[[[[[[[[0.09845854]]]]]]]]]]]]]]] [[[[[[[[[[[[[[[0.00969408]]]]]]]]]]]]]]]\n",
      "[[[[[[[[[[[[[[[[0.0833822]]]]]]]]]]]]]]]] [[[[[[[[[[[[[[[[0.00695259]]]]]]]]]]]]]]]]\n",
      "[[[[[[[[[[[[[[[[[0.06989471]]]]]]]]]]]]]]]]] [[[[[[[[[[[[[[[[[0.00488527]]]]]]]]]]]]]]]]]\n",
      "[[[[[[[[[[[[[[[[[[0.05792262]]]]]]]]]]]]]]]]]] [[[[[[[[[[[[[[[[[[0.00335503]]]]]]]]]]]]]]]]]]\n",
      "[[[[[[[[[[[[[[[[[[[0.04737805]]]]]]]]]]]]]]]]]]] [[[[[[[[[[[[[[[[[[[0.00224468]]]]]]]]]]]]]]]]]]]\n",
      "[[[[[[[[[[[[[[[[[[[[0.03816355]]]]]]]]]]]]]]]]]]]] [[[[[[[[[[[[[[[[[[[[0.00145646]]]]]]]]]]]]]]]]]]]]\n",
      "[[[[[[[[[[[[[[[[[[[[[0.0301761]]]]]]]]]]]]]]]]]]]]] [[[[[[[[[[[[[[[[[[[[[0.0009106]]]]]]]]]]]]]]]]]]]]]\n",
      "[[[[[[[[[[[[[[[[[[[[[[0.02331043]]]]]]]]]]]]]]]]]]]]]] [[[[[[[[[[[[[[[[[[[[[[0.00054338]]]]]]]]]]]]]]]]]]]]]]\n",
      "[[[[[[[[[[[[[[[[[[[[[[[0.01746153]]]]]]]]]]]]]]]]]]]]]]] [[[[[[[[[[[[[[[[[[[[[[[0.0003049]]]]]]]]]]]]]]]]]]]]]]]\n",
      "[[[[[[[[[[[[[[[[[[[[[[[[0.01252676]]]]]]]]]]]]]]]]]]]]]]]] [[[[[[[[[[[[[[[[[[[[[[[[0.00015692]]]]]]]]]]]]]]]]]]]]]]]]\n",
      "[[[[[[[[[[[[[[[[[[[[[[[[[0.00840737]]]]]]]]]]]]]]]]]]]]]]]]] [[[[[[[[[[[[[[[[[[[[[[[[[7.06838245e-05]]]]]]]]]]]]]]]]]]]]]]]]]\n",
      "[[[[[[[[[[[[[[[[[[[[[[[[[[0.00500962]]]]]]]]]]]]]]]]]]]]]]]]]] [[[[[[[[[[[[[[[[[[[[[[[[[[2.50962514e-05]]]]]]]]]]]]]]]]]]]]]]]]]]\n",
      "[[[[[[[[[[[[[[[[[[[[[[[[[[[0.00224559]]]]]]]]]]]]]]]]]]]]]]]]]]] [[[[[[[[[[[[[[[[[[[[[[[[[[[5.04265871e-06]]]]]]]]]]]]]]]]]]]]]]]]]]]\n",
      "[[[[[[[[[[[[[[[[[[[[[[[[[[[[3.36757173e-05]]]]]]]]]]]]]]]]]]]]]]]]]]]] [[[[[[[[[[[[[[[[[[[[[[[[[[[[1.13405393e-09]]]]]]]]]]]]]]]]]]]]]]]]]]]]\n",
      "[[[[[[[[[[[[[[[[[[[[[[[[[[[[[-0.00170114]]]]]]]]]]]]]]]]]]]]]]]]]]]]] [[[[[[[[[[[[[[[[[[[[[[[[[[[[[2.89386317e-06]]]]]]]]]]]]]]]]]]]]]]]]]]]]]\n",
      "[[[[[[[[[[[[[[[[[[[[[[[[[[[[[[-0.00302721]]]]]]]]]]]]]]]]]]]]]]]]]]]]]] [[[[[[[[[[[[[[[[[[[[[[[[[[[[[[9.16397253e-06]]]]]]]]]]]]]]]]]]]]]]]]]]]]]]\n",
      "[[[[[[[[[[[[[[[[[[[[[[[[[[[[[[[-0.0040063]]]]]]]]]]]]]]]]]]]]]]]]]]]]]]] [[[[[[[[[[[[[[[[[[[[[[[[[[[[[[[1.60504382e-05]]]]]]]]]]]]]]]]]]]]]]]]]]]]]]]\n",
      "[[[[[[[[[[[[[[[[[[[[[[[[[[[[[[[[-0.00469378]]]]]]]]]]]]]]]]]]]]]]]]]]]]]]]] [[[[[[[[[[[[[[[[[[[[[[[[[[[[[[[[2.20316068e-05]]]]]]]]]]]]]]]]]]]]]]]]]]]]]]]]\n",
      "[[[[[[[[[[[[[[[[[[[[[[[[[[[[[[[[-0.005138895648173878]]]]]]]]]]]]]]]]]]]]]]]]]]]]]]]] [[[[[[[[[[[[[[[[[[[[[[[[[[[[[[[[2.6408248482820425e-05]]]]]]]]]]]]]]]]]]]]]]]]]]]]]]]]\n",
      "[[[[[[[[[[[[[[[[[[[[[[[[[[[[[[[[-0.00538508538754617]]]]]]]]]]]]]]]]]]]]]]]]]]]]]]]] [[[[[[[[[[[[[[[[[[[[[[[[[[[[[[[[2.8999144631163286e-05]]]]]]]]]]]]]]]]]]]]]]]]]]]]]]]]\n",
      "[[[[[[[[[[[[[[[[[[[[[[[[[[[[[[[[-0.005470396435463123]]]]]]]]]]]]]]]]]]]]]]]]]]]]]]]] [[[[[[[[[[[[[[[[[[[[[[[[[[[[[[[[2.992523716112764e-05]]]]]]]]]]]]]]]]]]]]]]]]]]]]]]]]\n",
      "[[[[[[[[[[[[[[[[[[[[[[[[[[[[[[[[-0.005427872368320752]]]]]]]]]]]]]]]]]]]]]]]]]]]]]]]] [[[[[[[[[[[[[[[[[[[[[[[[[[[[[[[[2.9461798446779926e-05]]]]]]]]]]]]]]]]]]]]]]]]]]]]]]]]\n",
      "[[[[[[[[[[[[[[[[[[[[[[[[[[[[[[[[-0.005285976052314718]]]]]]]]]]]]]]]]]]]]]]]]]]]]]]]] [[[[[[[[[[[[[[[[[[[[[[[[[[[[[[[[2.794154282564469e-05]]]]]]]]]]]]]]]]]]]]]]]]]]]]]]]]\n",
      "[[[[[[[[[[[[[[[[[[[[[[[[[[[[[[[[-0.005069009819519693]]]]]]]]]]]]]]]]]]]]]]]]]]]]]]]] [[[[[[[[[[[[[[[[[[[[[[[[[[[[[[[[2.569486055038707e-05]]]]]]]]]]]]]]]]]]]]]]]]]]]]]]]]\n",
      "[[[[[[[[[[[[[[[[[[[[[[[[[[[[[[[[-0.004797528096617999]]]]]]]]]]]]]]]]]]]]]]]]]]]]]]]] [[[[[[[[[[[[[[[[[[[[[[[[[[[[[[[[2.301627583783912e-05]]]]]]]]]]]]]]]]]]]]]]]]]]]]]]]]\n",
      "[[[[[[[[[[[[[[[[[[[[[[[[[[[[[[[[-0.0044887358639307115]]]]]]]]]]]]]]]]]]]]]]]]]]]]]]]] [[[[[[[[[[[[[[[[[[[[[[[[[[[[[[[[2.014874965613779e-05]]]]]]]]]]]]]]]]]]]]]]]]]]]]]]]]\n",
      "[[[[[[[[[[[[[[[[[[[[[[[[[[[[[[[[-0.0041568680362252634]]]]]]]]]]]]]]]]]]]]]]]]]]]]]]]] [[[[[[[[[[[[[[[[[[[[[[[[[[[[[[[[1.7279551870591277e-05]]]]]]]]]]]]]]]]]]]]]]]]]]]]]]]]\n",
      "[[[[[[[[[[[[[[[[[[[[[[[[[[[[[[[[-0.003813546298579687]]]]]]]]]]]]]]]]]]]]]]]]]]]]]]]] [[[[[[[[[[[[[[[[[[[[[[[[[[[[[[[[1.4543135371410832e-05]]]]]]]]]]]]]]]]]]]]]]]]]]]]]]]]\n",
      "[[[[[[[[[[[[[[[[[[[[[[[[[[[[[[[[-0.0034681111302939617]]]]]]]]]]]]]]]]]]]]]]]]]]]]]]]] [[[[[[[[[[[[[[[[[[[[[[[[[[[[[[[[1.2027794812068861e-05]]]]]]]]]]]]]]]]]]]]]]]]]]]]]]]]\n",
      "[[[[[[[[[[[[[[[[[[[[[[[[[[[[[[[[-0.0031279277357520734]]]]]]]]]]]]]]]]]]]]]]]]]]]]]]]] [[[[[[[[[[[[[[[[[[[[[[[[[[[[[[[[9.783931920087092e-06]]]]]]]]]]]]]]]]]]]]]]]]]]]]]]]]\n",
      "[[[[[[[[[[[[[[[[[[[[[[[[[[[[[[[[-0.0027986653997161917]]]]]]]]]]]]]]]]]]]]]]]]]]]]]]]] [[[[[[[[[[[[[[[[[[[[[[[[[[[[[[[[7.83252801956859e-06]]]]]]]]]]]]]]]]]]]]]]]]]]]]]]]]\n",
      "[[[[[[[[[[[[[[[[[[[[[[[[[[[[[[[[-0.0024845504202697364]]]]]]]]]]]]]]]]]]]]]]]]]]]]]]]] [[[[[[[[[[[[[[[[[[[[[[[[[[[[[[[[6.172990790862524e-06]]]]]]]]]]]]]]]]]]]]]]]]]]]]]]]]\n",
      "[[[[[[[[[[[[[[[[[[[[[[[[[[[[[[[[-0.002188593267978321]]]]]]]]]]]]]]]]]]]]]]]]]]]]]]]] [[[[[[[[[[[[[[[[[[[[[[[[[[[[[[[[4.789940492640026e-06]]]]]]]]]]]]]]]]]]]]]]]]]]]]]]]]\n",
      "[[[[[[[[[[[[[[[[[[[[[[[[[[[[[[[[-0.0019127909952222847]]]]]]]]]]]]]]]]]]]]]]]]]]]]]]]] [[[[[[[[[[[[[[[[[[[[[[[[[[[[[[[[3.6587693914034584e-06]]]]]]]]]]]]]]]]]]]]]]]]]]]]]]]]\n",
      "[[[[[[[[[[[[[[[[[[[[[[[[[[[[[[[[-0.0016583061934771067]]]]]]]]]]]]]]]]]]]]]]]]]]]]]]]] [[[[[[[[[[[[[[[[[[[[[[[[[[[[[[[[2.7499794313245313e-06]]]]]]]]]]]]]]]]]]]]]]]]]]]]]]]]\n",
      "[[[[[[[[[[[[[[[[[[[[[[[[[[[[[[[[-0.001425623985039345]]]]]]]]]]]]]]]]]]]]]]]]]]]]]]]] [[[[[[[[[[[[[[[[[[[[[[[[[[[[[[[[2.0324037467194626e-06]]]]]]]]]]]]]]]]]]]]]]]]]]]]]]]]\n"
     ]
    },
    {
     "name": "stderr",
     "output_type": "stream",
     "text": [
      "/Users/kritpatarapak/PycharmProjects/untitled2/venv/lib/python3.8/site-packages/numpy/core/_asarray.py:102: VisibleDeprecationWarning: Creating an ndarray from nested sequences exceeding the maximum number of dimensions of 32 is deprecated. If you mean to do this, you must specify 'dtype=object' when creating the ndarray.\n",
      "  return array(a, dtype, copy=False, order=order)\n"
     ]
    },
    {
     "ename": "ValueError",
     "evalue": "The truth value of an array with more than one element is ambiguous. Use a.any() or a.all()",
     "output_type": "error",
     "traceback": [
      "\u001b[0;31m---------------------------------------------------------------------------\u001b[0m",
      "\u001b[0;31mValueError\u001b[0m                                Traceback (most recent call last)",
      "\u001b[0;32m<ipython-input-106-e6da70a5f5e5>\u001b[0m in \u001b[0;36m<module>\u001b[0;34m\u001b[0m\n\u001b[1;32m     53\u001b[0m \u001b[0msolutions\u001b[0m \u001b[0;34m=\u001b[0m \u001b[0mnesterov\u001b[0m\u001b[0;34m(\u001b[0m\u001b[0mobjective\u001b[0m\u001b[0;34m,\u001b[0m \u001b[0mderivative\u001b[0m\u001b[0;34m,\u001b[0m \u001b[0mbounds\u001b[0m\u001b[0;34m,\u001b[0m \u001b[0mn_iter\u001b[0m\u001b[0;34m,\u001b[0m \u001b[0mstep_size\u001b[0m\u001b[0;34m,\u001b[0m \u001b[0mmomentum\u001b[0m\u001b[0;34m)\u001b[0m\u001b[0;34m\u001b[0m\u001b[0;34m\u001b[0m\u001b[0m\n\u001b[1;32m     54\u001b[0m \u001b[0;31m# sample input range uniformly at 0.1 increments\u001b[0m\u001b[0;34m\u001b[0m\u001b[0;34m\u001b[0m\u001b[0;34m\u001b[0m\u001b[0m\n\u001b[0;32m---> 55\u001b[0;31m \u001b[0mxaxis\u001b[0m \u001b[0;34m=\u001b[0m \u001b[0marange\u001b[0m\u001b[0;34m(\u001b[0m\u001b[0mbounds\u001b[0m\u001b[0;34m[\u001b[0m\u001b[0;36m0\u001b[0m\u001b[0;34m]\u001b[0m\u001b[0;34m,\u001b[0m \u001b[0mbounds\u001b[0m\u001b[0;34m[\u001b[0m\u001b[0;36m1\u001b[0m\u001b[0;34m]\u001b[0m\u001b[0;34m,\u001b[0m \u001b[0;36m0.1\u001b[0m\u001b[0;34m)\u001b[0m\u001b[0;34m\u001b[0m\u001b[0;34m\u001b[0m\u001b[0m\n\u001b[0m\u001b[1;32m     56\u001b[0m \u001b[0;31m# create a mesh from the axis\u001b[0m\u001b[0;34m\u001b[0m\u001b[0;34m\u001b[0m\u001b[0;34m\u001b[0m\u001b[0m\n\u001b[1;32m     57\u001b[0m \u001b[0mx\u001b[0m\u001b[0;34m=\u001b[0m \u001b[0mmeshgrid\u001b[0m\u001b[0;34m(\u001b[0m\u001b[0mxaxis\u001b[0m\u001b[0;34m)\u001b[0m\u001b[0;34m\u001b[0m\u001b[0;34m\u001b[0m\u001b[0m\n",
      "\u001b[0;31mValueError\u001b[0m: The truth value of an array with more than one element is ambiguous. Use a.any() or a.all()"
     ]
    }
   ],
   "source": [
    "# objective function\n",
    "def objective(x):\n",
    "\treturn x**2.0\n",
    "\n",
    "# derivative of objective function\n",
    "def derivative(x):\n",
    "\treturn 2*x\n",
    "\n",
    "# gradient descent algorithm with nesterov momentum\n",
    "# gradient descent algorithm with nesterov momentum\n",
    "def nesterov(objective, derivative, bounds, n_iter, step_size, momentum):\n",
    "\t# track all solutions\n",
    "\tsolutions = list()\n",
    "\t# generate an initial point\n",
    "\tsolution = rand()\n",
    "\t# list of changes made to each variable\n",
    "\tchange = 0\n",
    "\t# run the gradient descent\n",
    "\tfor it in range(n_iter):\n",
    "\t\t# calculate the projected solution\n",
    "\t\tprojected = [solution + momentum * change]\n",
    "\t\t# calculate the gradient for the projection\n",
    "\t\tgradient = derivative(projected[0])\n",
    "\t\t# build a solution one variable at a time\n",
    "\t\tnew_solution = list()\n",
    "\t\t\n",
    "\t\t# calculate the change\n",
    "\t\tchange = (momentum * change) - step_size * gradient\n",
    "\t\t# calculate the new position in this variable\n",
    "\t\tvalue = solution + change\n",
    "\t\t# store this variable\n",
    "\t\tnew_solution.append(value)\n",
    "\t\t# store the new solution\n",
    "\t\tsolution = asarray(new_solution)\n",
    "\t\tsolutions.append(solution)\n",
    "\t\t# evaluate candidate point\n",
    "\t\tsolution_eval = objective(solution)\n",
    "\t\t# report progress\n",
    "\t\tprint(solution, solution_eval)\n",
    "\treturn solutions\n",
    " \n",
    "# seed the pseudo random number generator\n",
    "seed(1)\n",
    "# define range for input\n",
    "bounds = asarray([[-1.0, 1.0], [-1.0, 1.0]])\n",
    "# define the total iterations\n",
    "n_iter = 50\n",
    "# define the step size\n",
    "step_size = 0.01\n",
    "# define momentum\n",
    "momentum = 0.8\n",
    "# perform the gradient descent search with nesterov momentum\n",
    "solutions = nesterov(objective, derivative, bounds, n_iter, step_size, momentum)\n",
    "# sample input range uniformly at 0.1 increments\n",
    "xaxis = arange(bounds[0], bounds[1], 0.1)\n",
    "# create a mesh from the axis\n",
    "x= meshgrid(xaxis)\n",
    "# compute targets\n",
    "results = objective(x)\n",
    "# create a filled contour plot with 50 levels and jet color scheme\n",
    "pyplot.plot(x, results, levels=50, cmap='jet')\n",
    "# plot the sample\n",
    "solutions = asarray(solutions)\n",
    "pyplot.plot(solutions[:, 0], solutions[:, 1], '.-', color='w')\n",
    "# show the plot\n",
    "pyplot.show()"
   ]
  },
  {
   "cell_type": "code",
   "execution_count": 59,
   "id": "8e8dbb25-09a4-4262-a2b7-aff96ad10eac",
   "metadata": {},
   "outputs": [
    {
     "name": "stdout",
     "output_type": "stream",
     "text": [
      "0.41730480236712697\n"
     ]
    }
   ],
   "source": [
    "solution = rand()\n",
    "print(solution)"
   ]
  },
  {
   "cell_type": "code",
   "execution_count": null,
   "id": "e1e473e7-f44b-4d98-9518-9a64191934a8",
   "metadata": {},
   "outputs": [],
   "source": []
  }
 ],
 "metadata": {
  "kernelspec": {
   "display_name": "Python 3",
   "language": "python",
   "name": "python3"
  },
  "language_info": {
   "codemirror_mode": {
    "name": "ipython",
    "version": 3
   },
   "file_extension": ".py",
   "mimetype": "text/x-python",
   "name": "python",
   "nbconvert_exporter": "python",
   "pygments_lexer": "ipython3",
   "version": "3.8.0"
  }
 },
 "nbformat": 4,
 "nbformat_minor": 5
}
