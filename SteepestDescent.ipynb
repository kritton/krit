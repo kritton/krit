{
 "cells": [
  {
   "cell_type": "code",
   "execution_count": 28,
   "id": "f5609bff-793a-4719-9f5e-d3315be5272a",
   "metadata": {},
   "outputs": [
    {
     "name": "stdout",
     "output_type": "stream",
     "text": [
      "Requirement already satisfied: numpy in ./venv/lib/python3.8/site-packages (1.20.2)\n",
      "Requirement already satisfied: matplotlib in ./venv/lib/python3.8/site-packages (3.4.1)\n",
      "Requirement already satisfied: pyparsing>=2.2.1 in ./venv/lib/python3.8/site-packages (from matplotlib) (2.4.7)\n",
      "Requirement already satisfied: pillow>=6.2.0 in ./venv/lib/python3.8/site-packages (from matplotlib) (8.2.0)\n",
      "Requirement already satisfied: cycler>=0.10 in ./venv/lib/python3.8/site-packages (from matplotlib) (0.10.0)\n",
      "Requirement already satisfied: kiwisolver>=1.0.1 in ./venv/lib/python3.8/site-packages (from matplotlib) (1.3.1)\n",
      "Requirement already satisfied: python-dateutil>=2.7 in ./venv/lib/python3.8/site-packages (from matplotlib) (2.8.1)\n",
      "Requirement already satisfied: numpy>=1.16 in ./venv/lib/python3.8/site-packages (from matplotlib) (1.20.2)\n",
      "Requirement already satisfied: six in ./venv/lib/python3.8/site-packages (from cycler>=0.10->matplotlib) (1.15.0)\n",
      "Collecting scipy\n",
      "  Downloading scipy-1.6.2-cp38-cp38-macosx_10_9_x86_64.whl (30.8 MB)\n",
      "\u001b[K     |████████████████████████████████| 30.8 MB 1.5 MB/s eta 0:00:01\n",
      "\u001b[?25hRequirement already satisfied: numpy<1.23.0,>=1.16.5 in ./venv/lib/python3.8/site-packages (from scipy) (1.20.2)\n",
      "Installing collected packages: scipy\n",
      "Successfully installed scipy-1.6.2\n"
     ]
    }
   ],
   "source": [
    "import sys\n",
    "!{sys.executable} -m pip install numpy\n",
    "!{sys.executable} -m pip install matplotlib\n",
    "!{sys.executable} -m pip install scipy"
   ]
  },
  {
   "cell_type": "code",
   "execution_count": 30,
   "id": "2f33f43a-57f4-4a70-a385-bfda90217564",
   "metadata": {},
   "outputs": [],
   "source": [
    "import math\n",
    "import numpy as np\n",
    "from math import sqrt\n",
    "from numpy import asarray\n",
    "from numpy.random import rand\n",
    "from numpy.random import seed\n",
    "from numpy import arange\n",
    "from numpy import meshgrid\n",
    "from matplotlib import pyplot\n",
    "from scipy.optimize import minimize_scalar"
   ]
  },
  {
   "cell_type": "code",
   "execution_count": 72,
   "id": "402412d2-0c6f-415c-8220-cd416fb97263",
   "metadata": {},
   "outputs": [],
   "source": [
    "def objective(x,y):\n",
    "    return 10*x**2 + y**2\n",
    "\n",
    "# derivative of objective function\n",
    "def derivative(x,y):\n",
    "    return asarray([20*x, 2*y])\n",
    "\n",
    "# steepest descent algo.\n",
    "def steepest(objective, derivative, epsilon):\n",
    "    # track all solutions\n",
    "    solutions = list()\n",
    "    # generate an initial point\n",
    "    solution = [1,1]\n",
    "    # list of changes made to each variable\n",
    "    change = [0,0]\n",
    "    # run the gradient descent\n",
    "    solution_eval = objective(solution[0], solution[1])\n",
    "    \n",
    "    while solution_eval >= epsilon:\n",
    "        #calculate gradient\n",
    "        gradient = derivative(solution[0], solution[1])\n",
    "        res = minimize_scalar(lambda alpha: objective(solution[0] - alpha * gradient[0],solution[1]- alpha * gradient[1]))\n",
    "        alpha = res.x\n",
    "        solution = solution - gradient*alpha\n",
    "        solutions.append(solution)\n",
    "        # evaluate candidate point\n",
    "        solution_eval = objective(solution[0], solution[1])\n",
    "        # report progress\n",
    "        print(solution, solution_eval)\n",
    "    return solutions\n",
    "  "
   ]
  },
  {
   "cell_type": "code",
   "execution_count": 75,
   "id": "864c836b-30b8-4d71-9c42-131560b6e70e",
   "metadata": {},
   "outputs": [],
   "source": [
    "epsilon = 10**(-5)"
   ]
  },
  {
   "cell_type": "code",
   "execution_count": 76,
   "id": "435fdea6-7e63-4467-b5c6-a18ed9ef1dbe",
   "metadata": {},
   "outputs": [
    {
     "name": "stdout",
     "output_type": "stream",
     "text": [
      "[-0.00899101  0.8991009 ] 0.8091908091908092\n",
      "[0.0735628 0.0735628] 0.05952634233444366\n",
      "[-0.0006614   0.06614038] 0.004378924465616134\n",
      "[0.00541149 0.00541149] 0.0003221259483380192\n",
      "[-4.86547163e-05  4.86547163e-03] 2.3696486981551253e-05\n",
      "[0.00039808 0.00039808] 1.7431799523263095e-06\n"
     ]
    }
   ],
   "source": [
    "solutions = steepest(objective, derivative, epsilon)"
   ]
  },
  {
   "cell_type": "code",
   "execution_count": null,
   "id": "79c96d50-5e33-45fe-88fe-53727799d21e",
   "metadata": {},
   "outputs": [],
   "source": []
  }
 ],
 "metadata": {
  "kernelspec": {
   "display_name": "Python 3",
   "language": "python",
   "name": "python3"
  },
  "language_info": {
   "codemirror_mode": {
    "name": "ipython",
    "version": 3
   },
   "file_extension": ".py",
   "mimetype": "text/x-python",
   "name": "python",
   "nbconvert_exporter": "python",
   "pygments_lexer": "ipython3",
   "version": "3.8.0"
  }
 },
 "nbformat": 4,
 "nbformat_minor": 5
}
